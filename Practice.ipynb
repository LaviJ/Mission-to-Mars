{
 "cells": [
  {
   "cell_type": "markdown",
   "id": "b5606d0e-84e4-40de-aef0-f30d938b4c5b",
   "metadata": {},
   "source": [
    "# 10.3.1 Use Splinter\n",
    "\n",
    "set the executable path and initialize a browser:\n",
    "\n",
    "# Set up Splinter\n",
    "executable_path = {'executable_path': ChromeDriverManager().install()}\n",
    "browser = Browser('chrome', **executable_path, headless=False)\n",
    "With these two lines of code, we are creating an instance of a Splinter browser. This means that we're prepping our automated browser. We're also specifying that we'll be using Chrome as our browser. **executable_path is unpacking the dictionary we've stored the path in – think of it as unpacking a suitcase. headless=False means that all of the browser's actions will be displayed in a Chrome window so we can see them.\n",
    "\n",
    "The third cell that initiates a Splinter browser may take a couple of seconds to finish, but an empty webpage should automatically open, ready for instructions. You'll know that it's an automated browser because it'll have a special message stating so\n",
    "\n",
    "This browser now belongs to Splinter (for the duration of our coding,\n",
    "\n",
    "Splinter provides us with many ways to interact with webpages. It can input terms into a Google search bar for us and click the Search button, or even log us into our email accounts by inputting a username and password combination."
   ]
  },
  {
   "cell_type": "code",
   "execution_count": 1,
   "id": "def65f9f-d314-42b0-b5ed-917b6cd7e70d",
   "metadata": {},
   "outputs": [],
   "source": [
    "# import our scraping tools: the Browser instance from splinter, the BeautifulSoup object, and the driver object for Chrome, ChromeDriverManager.\n",
    "from splinter import Browser\n",
    "from bs4 import BeautifulSoup as soup\n",
    "from webdriver_manager.chrome import ChromeDriverManager"
   ]
  },
  {
   "cell_type": "code",
   "execution_count": 2,
   "id": "8b7173c0-d21a-4e94-b2be-041cb7f34af1",
   "metadata": {},
   "outputs": [
    {
     "name": "stderr",
     "output_type": "stream",
     "text": [
      "[WDM] - \n",
      "\n",
      "[WDM] - ====== WebDriver manager ======\n",
      "[WDM] - Current google-chrome version is 94.0.4606\n",
      "[WDM] - Get LATEST driver version for 94.0.4606\n",
      "[WDM] - There is no [win32] chromedriver for browser 94.0.4606 in cache\n",
      "[WDM] - Get LATEST driver version for 94.0.4606\n",
      "[WDM] - Trying to download new driver from https://chromedriver.storage.googleapis.com/94.0.4606.61/chromedriver_win32.zip\n",
      "[WDM] - Driver has been saved in cache [C:\\Users\\lavin\\.wdm\\drivers\\chromedriver\\win32\\94.0.4606.61]\n"
     ]
    }
   ],
   "source": [
    "# set the executable path and initialize a browser\n",
    "executable_path = {'executable_path': ChromeDriverManager().install()}\n",
    "browser = Browser('chrome', **executable_path, headless=False)"
   ]
  },
  {
   "cell_type": "markdown",
   "id": "36476a43-5011-43fc-b11b-048eca3df077",
   "metadata": {},
   "source": [
    "# 10.3.2 Practice with Splinter and BeautifulSoup\n",
    "\n",
    "Scrape the Title\n",
    "Now let's scrape that title\n",
    "\n",
    "This code tells Splinter which site we want to visit by assigning the link to a URL. After executing the cell above, we will use BeautifulSoup to parse the HTML"
   ]
  },
  {
   "cell_type": "code",
   "execution_count": 3,
   "id": "7b449673-c49d-4df5-8b3b-8093cfee9dc0",
   "metadata": {},
   "outputs": [],
   "source": [
    "# Visit the Quotes to Scrape site\n",
    "url = 'http://quotes.toscrape.com/'\n",
    "browser.visit(url)"
   ]
  },
  {
   "cell_type": "code",
   "execution_count": 4,
   "id": "be1b1f1d-51d0-4d65-838c-9eb43a8eec49",
   "metadata": {},
   "outputs": [],
   "source": [
    "# Parse the HTML\n",
    "html = browser.html\n",
    "html_soup = soup(html, 'html.parser')"
   ]
  },
  {
   "cell_type": "code",
   "execution_count": 5,
   "id": "cd4b8fdc-7381-4fbc-85ba-2c85dbc22626",
   "metadata": {},
   "outputs": [
    {
     "data": {
      "text/plain": [
       "'Top Ten tags'"
      ]
     },
     "execution_count": 5,
     "metadata": {},
     "output_type": "execute_result"
    }
   ],
   "source": [
    "# Scrape the Title\n",
    "title = html_soup.find('h2').text\n",
    "title"
   ]
  },
  {
   "cell_type": "markdown",
   "id": "422fa8f9-ff18-4ca7-a144-b18f33db6d05",
   "metadata": {},
   "source": [
    "# Scrape All of the Tags\n",
    "the '<div />' container holding all of the tags has two classes. The col-md-4 class is a Bootstrap feature. Bootstrap is an HTML and CSS framework that simplifies adding functional components that look nice by default. In this case, col-md-4 means that this webpage is using a grid layout, and it's a common class that many webpages use\n",
    "\n",
    "expand the tags-box div to take a look at the contents.\n",
    "\n",
    "From here, we can see a list of <span /> elements, each with a class of tag-item. Open some of the <span /> elements to see what they contain; if you see <a /> elements with the names in the list that we're targeting, then we're in the right place. Search for tag-item and note the number of returned results. If there are 10, then we're ready to go.\n",
    "\n",
    "The first line, tag_box = html_soup.find('div', class_='tags-box'), creates a new variable tag_box, which will be used to store the results of a search. In this case, we're looking for <div /> elements with a class of tags-box, and we're searching for it in the HTML we parsed earlier and stored in the html_soup variable.\n",
    "\n",
    "The second line, tags = tag_box.find_all('a', class_='tag'), is similar to the first but with a few tweaks to make the search more specific. The new \"tags\" variable will hold the results of a find_all, but this time we're searching through the parsed results stored in our tag_box variable to find <a /> elements with a tag class.\n",
    "\n",
    "We used find_all this time because we want to capture all results, instead of a single or specific one.\n",
    "\n",
    "Next, we've added a for loop. This for loop cycles through each tag in the tags variable, strips the HTML code out of it, and then prints only the text of each tag.\n",
    "\n",
    "\n"
   ]
  },
  {
   "cell_type": "code",
   "execution_count": 11,
   "id": "82dedf3f-0968-40bf-8270-aac9b7d69a20",
   "metadata": {},
   "outputs": [
    {
     "name": "stdout",
     "output_type": "stream",
     "text": [
      "love\n",
      "inspirational\n",
      "life\n",
      "humor\n",
      "books\n",
      "reading\n",
      "friendship\n",
      "friends\n",
      "truth\n",
      "simile\n"
     ]
    }
   ],
   "source": [
    "# Scrape the top ten tags\n",
    "tag_box = html_soup.find('div', class_='tags-box')\n",
    "# tag_box\n",
    "tags = tag_box.find_all('a', class_='tag')\n",
    "\n",
    "for tag in tags:\n",
    "    word = tag.text\n",
    "    print(word)"
   ]
  },
  {
   "cell_type": "markdown",
   "id": "a4afc79d-2c24-4725-8c66-5e732757daf1",
   "metadata": {},
   "source": [
    "# Scrape Across Pages\n",
    "scraping items that span multiple pages. Our next section of code will scrape the quotes on the first page, click the \"Next\" button, then scrape more quotes and so on until we have scraped the quotes on five pages.\n",
    "\n",
    "In the next cell, we'll create a for loop that will do the following:\n",
    "\n",
    "Create a BeautifulSoup object\n",
    "Find all the quotes on the page\n",
    "Print each quote from the page\n",
    "Click the \"Next\" button at the bottom of the page\n",
    "We'll use range(1, 6) in our for loop to visit the first five pages of the website.\n",
    "\n",
    "for x in range(1, 6):\n",
    "    html = browser.html\n",
    "    soup = BeautifulSoup (html, 'html.parser')\n",
    "    \n",
    "    quotes = soup.find_all('span', class_='text')\n",
    "\n",
    "    for quote in quotes:\n",
    "        print('page:', x, '----------')\n",
    "        print(quote.text)\n",
    "browser.links.find_by_partial_text('Next').click()\n",
    "    Use Splinter to click the 'Next' buttom\n",
    "    \n",
    "BeautifulSoup can search for text, but the syntax is typically the same: we look for a tag first, then an attribute. We can search for items using only a tag, such as a <span /> or <h1 />, but a class or id attribute makes the search that much more specific.\n",
    "    \n"
   ]
  },
  {
   "cell_type": "code",
   "execution_count": 12,
   "id": "763c00bc-0cd7-4781-ae9b-4fc00977ac17",
   "metadata": {},
   "outputs": [
    {
     "name": "stdout",
     "output_type": "stream",
     "text": [
      "page: 1 ----------\n",
      "“I love you without knowing how, or when, or from where. I love you simply, without problems or pride: I love you in this way because I do not know any other way of loving but this, in which there is no I or you, so intimate that your hand upon my chest is my hand, so intimate that when I fall asleep your eyes close.”\n",
      "page: 1 ----------\n",
      "“For every minute you are angry you lose sixty seconds of happiness.”\n",
      "page: 1 ----------\n",
      "“If you judge people, you have no time to love them.”\n",
      "page: 1 ----------\n",
      "“Anyone who thinks sitting in church can make you a Christian must also think that sitting in a garage can make you a car.”\n",
      "page: 1 ----------\n",
      "“Beauty is in the eye of the beholder and it may be necessary from time to time to give a stupid or misinformed beholder a black eye.”\n",
      "page: 1 ----------\n",
      "“Today you are You, that is truer than true. There is no one alive who is Youer than You.”\n",
      "page: 1 ----------\n",
      "“If you want your children to be intelligent, read them fairy tales. If you want them to be more intelligent, read them more fairy tales.”\n",
      "page: 1 ----------\n",
      "“It is impossible to live without failing at something, unless you live so cautiously that you might as well not have lived at all - in which case, you fail by default.”\n",
      "page: 1 ----------\n",
      "“Logic will get you from A to Z; imagination will get you everywhere.”\n",
      "page: 1 ----------\n",
      "“One good thing about music, when it hits you, you feel no pain.”\n",
      "page: 2 ----------\n",
      "“The more that you read, the more things you will know. The more that you learn, the more places you'll go.”\n",
      "page: 2 ----------\n",
      "“Of course it is happening inside your head, Harry, but why on earth should that mean that it is not real?”\n",
      "page: 2 ----------\n",
      "“The truth is, everyone is going to hurt you. You just got to find the ones worth suffering for.”\n",
      "page: 2 ----------\n",
      "“Not all of us can do great things. But we can do small things with great love.”\n",
      "page: 2 ----------\n",
      "“To the well-organized mind, death is but the next great adventure.”\n",
      "page: 2 ----------\n",
      "“All you need is love. But a little chocolate now and then doesn't hurt.”\n",
      "page: 2 ----------\n",
      "“We read to know we're not alone.”\n",
      "page: 2 ----------\n",
      "“Any fool can know. The point is to understand.”\n",
      "page: 2 ----------\n",
      "“I have always imagined that Paradise will be a kind of library.”\n",
      "page: 2 ----------\n",
      "“It is never too late to be what you might have been.”\n",
      "page: 3 ----------\n",
      "“A reader lives a thousand lives before he dies, said Jojen. The man who never reads lives only one.”\n",
      "page: 3 ----------\n",
      "“You can never get a cup of tea large enough or a book long enough to suit me.”\n",
      "page: 3 ----------\n",
      "“You believe lies so you eventually learn to trust no one but yourself.”\n",
      "page: 3 ----------\n",
      "“If you can make a woman laugh, you can make her do anything.”\n",
      "page: 3 ----------\n",
      "“Life is like riding a bicycle. To keep your balance, you must keep moving.”\n",
      "page: 3 ----------\n",
      "“The real lover is the man who can thrill you by kissing your forehead or smiling into your eyes or just staring into space.”\n",
      "page: 3 ----------\n",
      "“A wise girl kisses but doesn't love, listens but doesn't believe, and leaves before she is left.”\n",
      "page: 3 ----------\n",
      "“Only in the darkness can you see the stars.”\n",
      "page: 3 ----------\n",
      "“It matters not what someone is born, but what they grow to be.”\n",
      "page: 3 ----------\n",
      "“Love does not begin and end the way we seem to think it does. Love is a battle, love is a war; love is a growing up.”\n",
      "page: 4 ----------\n",
      "“There is nothing I would not do for those who are really my friends. I have no notion of loving people by halves, it is not my nature.”\n",
      "page: 4 ----------\n",
      "“Do one thing every day that scares you.”\n",
      "page: 4 ----------\n",
      "“I am good, but not an angel. I do sin, but I am not the devil. I am just a small girl in a big world trying to find someone to love.”\n",
      "page: 4 ----------\n",
      "“If I were not a physicist, I would probably be a musician. I often think in music. I live my daydreams in music. I see my life in terms of music.”\n",
      "page: 4 ----------\n",
      "“If you only read the books that everyone else is reading, you can only think what everyone else is thinking.”\n",
      "page: 4 ----------\n",
      "“The difference between genius and stupidity is: genius has its limits.”\n",
      "page: 4 ----------\n",
      "“He's like a drug for you, Bella.”\n",
      "page: 4 ----------\n",
      "“There is no friend as loyal as a book.”\n",
      "page: 4 ----------\n",
      "“When one door of happiness closes, another opens; but often we look so long at the closed door that we do not see the one which has been opened for us.”\n",
      "page: 4 ----------\n",
      "“Life isn't about finding yourself. Life is about creating yourself.”\n",
      "page: 5 ----------\n",
      "“That's the problem with drinking, I thought, as I poured myself a drink. If something bad happens you drink in an attempt to forget; if something good happens you drink in order to celebrate; and if nothing happens you drink to make something happen.”\n",
      "page: 5 ----------\n",
      "“You don’t forget the face of the person who was your last hope.”\n",
      "page: 5 ----------\n",
      "“Remember, we're madly in love, so it's all right to kiss me anytime you feel like it.”\n",
      "page: 5 ----------\n",
      "“To love at all is to be vulnerable. Love anything and your heart will be wrung and possibly broken. If you want to make sure of keeping it intact you must give it to no one, not even an animal. Wrap it carefully round with hobbies and little luxuries; avoid all entanglements. Lock it up safe in the casket or coffin of your selfishness. But in that casket, safe, dark, motionless, airless, it will change. It will not be broken; it will become unbreakable, impenetrable, irredeemable. To love is to be vulnerable.”\n",
      "page: 5 ----------\n",
      "“Not all those who wander are lost.”\n",
      "page: 5 ----------\n",
      "“Do not pity the dead, Harry. Pity the living, and, above all those who live without love.”\n",
      "page: 5 ----------\n",
      "“There is nothing to writing. All you do is sit down at a typewriter and bleed.”\n",
      "page: 5 ----------\n",
      "“Finish each day and be done with it. You have done what you could. Some blunders and absurdities no doubt crept in; forget them as soon as you can. Tomorrow is a new day. You shall begin it serenely and with too high a spirit to be encumbered with your old nonsense.”\n",
      "page: 5 ----------\n",
      "“I have never let my schooling interfere with my education.”\n",
      "page: 5 ----------\n",
      "“I have heard there are troubles of more than one kind. Some come from ahead and some come from behind. But I've bought a big bat. I'm all ready you see. Now my troubles are going to have troubles with me!”\n"
     ]
    }
   ],
   "source": [
    "# use range(1, 6) in our for loop to visit the first five pages of the website.\n",
    "for x in range(1, 6):\n",
    "   html = browser.html\n",
    "   quote_soup = soup(html, 'html.parser')\n",
    "   quotes = quote_soup.find_all('span', class_='text')\n",
    "   for quote in quotes:\n",
    "      print('page:', x, '----------')\n",
    "      print(quote.text)\n",
    "   browser.links.find_by_partial_text('Next').click()"
   ]
  },
  {
   "cell_type": "code",
   "execution_count": null,
   "id": "df6e8aef-473c-48c3-bad9-ff3ec1f86d51",
   "metadata": {},
   "outputs": [],
   "source": []
  }
 ],
 "metadata": {
  "kernelspec": {
   "display_name": "PythonData",
   "language": "python",
   "name": "pythondata"
  },
  "language_info": {
   "codemirror_mode": {
    "name": "ipython",
    "version": 3
   },
   "file_extension": ".py",
   "mimetype": "text/x-python",
   "name": "python",
   "nbconvert_exporter": "python",
   "pygments_lexer": "ipython3",
   "version": "3.9.4"
  }
 },
 "nbformat": 4,
 "nbformat_minor": 5
}
